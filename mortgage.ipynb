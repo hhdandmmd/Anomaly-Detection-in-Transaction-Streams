{
  "nbformat": 4,
  "nbformat_minor": 0,
  "metadata": {
    "colab": {
      "provenance": [],
      "toc_visible": true
    },
    "kernelspec": {
      "name": "python3",
      "display_name": "Python 3"
    },
    "language_info": {
      "name": "python"
    }
  },
  "cells": [
    {
      "cell_type": "markdown",
      "source": [
        "## 1. Data Inventory"
      ],
      "metadata": {
        "id": "zc7c8u20P4Ik"
      }
    },
    {
      "cell_type": "code",
      "execution_count": null,
      "metadata": {
        "colab": {
          "base_uri": "https://localhost:8080/"
        },
        "id": "JWKhUJZYfwu8",
        "outputId": "f3d90caf-3735-400d-c2ba-d746c15a8266"
      },
      "outputs": [
        {
          "output_type": "stream",
          "name": "stdout",
          "text": [
            "Mounted at /content/drive\n"
          ]
        }
      ],
      "source": [
        "from google.colab import drive\n",
        "drive.mount('/content/drive')\n",
        "\n",
        "DATA_DIR = '/content/drive/MyDrive/ucla_capstone'\n"
      ]
    },
    {
      "cell_type": "code",
      "source": [
        "import pandas as pd, glob, os\n",
        "\n",
        "mort_acct = pd.read_csv(os.path.join(DATA_DIR, 'mortgage_accounts.csv'))\n",
        "mort_txn = pd.read_csv(os.path.join(DATA_DIR, 'mortgage_transactions.csv'))\n",
        "\n",
        "for name, df in [('ACCOUNTS', mort_acct), ('TRANSACTIONS', mort_txn)]:\n",
        "    print(f'\\n===== MORTGAGE {name} =====')\n",
        "    display(df.head(3))\n",
        "    df.info()\n"
      ],
      "metadata": {
        "colab": {
          "base_uri": "https://localhost:8080/",
          "height": 1000
        },
        "id": "yYAN_M8XNzmk",
        "outputId": "fdd9f3a5-1246-4d40-a031-ba4a3a5b60da"
      },
      "execution_count": null,
      "outputs": [
        {
          "output_type": "stream",
          "name": "stdout",
          "text": [
            "\n",
            "===== MORTGAGE ACCOUNTS =====\n"
          ]
        },
        {
          "output_type": "display_data",
          "data": {
            "text/plain": [
              "    accountId accountNumberDisplay accountType balanceType currency  \\\n",
              "0  2642618000           ******4890    MORTGAGE   LIABILITY      USD   \n",
              "1  2642618001           ******7945    MORTGAGE   LIABILITY      USD   \n",
              "2  2642618002           ******5297    MORTGAGE   LIABILITY      USD   \n",
              "\n",
              "                description accountOpenedDate  nickname  \\\n",
              "0  GENERIC COMPANY MORTGAGE        2023-03-17  MORTGAGE   \n",
              "1  GENERIC COMPANY MORTGAGE        2014-01-03  MORTGAGE   \n",
              "2  GENERIC COMPANY MORTGAGE        2020-05-02  MORTGAGE   \n",
              "\n",
              "                productName status  \n",
              "0  GENERIC COMPANY MORTGAGE   OPEN  \n",
              "1  GENERIC COMPANY MORTGAGE   OPEN  \n",
              "2  GENERIC COMPANY MORTGAGE   OPEN  "
            ],
            "text/html": [
              "\n",
              "  <div id=\"df-e2849184-39e7-4ce2-bd23-882d8b1cded5\" class=\"colab-df-container\">\n",
              "    <div>\n",
              "<style scoped>\n",
              "    .dataframe tbody tr th:only-of-type {\n",
              "        vertical-align: middle;\n",
              "    }\n",
              "\n",
              "    .dataframe tbody tr th {\n",
              "        vertical-align: top;\n",
              "    }\n",
              "\n",
              "    .dataframe thead th {\n",
              "        text-align: right;\n",
              "    }\n",
              "</style>\n",
              "<table border=\"1\" class=\"dataframe\">\n",
              "  <thead>\n",
              "    <tr style=\"text-align: right;\">\n",
              "      <th></th>\n",
              "      <th>accountId</th>\n",
              "      <th>accountNumberDisplay</th>\n",
              "      <th>accountType</th>\n",
              "      <th>balanceType</th>\n",
              "      <th>currency</th>\n",
              "      <th>description</th>\n",
              "      <th>accountOpenedDate</th>\n",
              "      <th>nickname</th>\n",
              "      <th>productName</th>\n",
              "      <th>status</th>\n",
              "    </tr>\n",
              "  </thead>\n",
              "  <tbody>\n",
              "    <tr>\n",
              "      <th>0</th>\n",
              "      <td>2642618000</td>\n",
              "      <td>******4890</td>\n",
              "      <td>MORTGAGE</td>\n",
              "      <td>LIABILITY</td>\n",
              "      <td>USD</td>\n",
              "      <td>GENERIC COMPANY MORTGAGE</td>\n",
              "      <td>2023-03-17</td>\n",
              "      <td>MORTGAGE</td>\n",
              "      <td>GENERIC COMPANY MORTGAGE</td>\n",
              "      <td>OPEN</td>\n",
              "    </tr>\n",
              "    <tr>\n",
              "      <th>1</th>\n",
              "      <td>2642618001</td>\n",
              "      <td>******7945</td>\n",
              "      <td>MORTGAGE</td>\n",
              "      <td>LIABILITY</td>\n",
              "      <td>USD</td>\n",
              "      <td>GENERIC COMPANY MORTGAGE</td>\n",
              "      <td>2014-01-03</td>\n",
              "      <td>MORTGAGE</td>\n",
              "      <td>GENERIC COMPANY MORTGAGE</td>\n",
              "      <td>OPEN</td>\n",
              "    </tr>\n",
              "    <tr>\n",
              "      <th>2</th>\n",
              "      <td>2642618002</td>\n",
              "      <td>******5297</td>\n",
              "      <td>MORTGAGE</td>\n",
              "      <td>LIABILITY</td>\n",
              "      <td>USD</td>\n",
              "      <td>GENERIC COMPANY MORTGAGE</td>\n",
              "      <td>2020-05-02</td>\n",
              "      <td>MORTGAGE</td>\n",
              "      <td>GENERIC COMPANY MORTGAGE</td>\n",
              "      <td>OPEN</td>\n",
              "    </tr>\n",
              "  </tbody>\n",
              "</table>\n",
              "</div>\n",
              "    <div class=\"colab-df-buttons\">\n",
              "\n",
              "  <div class=\"colab-df-container\">\n",
              "    <button class=\"colab-df-convert\" onclick=\"convertToInteractive('df-e2849184-39e7-4ce2-bd23-882d8b1cded5')\"\n",
              "            title=\"Convert this dataframe to an interactive table.\"\n",
              "            style=\"display:none;\">\n",
              "\n",
              "  <svg xmlns=\"http://www.w3.org/2000/svg\" height=\"24px\" viewBox=\"0 -960 960 960\">\n",
              "    <path d=\"M120-120v-720h720v720H120Zm60-500h600v-160H180v160Zm220 220h160v-160H400v160Zm0 220h160v-160H400v160ZM180-400h160v-160H180v160Zm440 0h160v-160H620v160ZM180-180h160v-160H180v160Zm440 0h160v-160H620v160Z\"/>\n",
              "  </svg>\n",
              "    </button>\n",
              "\n",
              "  <style>\n",
              "    .colab-df-container {\n",
              "      display:flex;\n",
              "      gap: 12px;\n",
              "    }\n",
              "\n",
              "    .colab-df-convert {\n",
              "      background-color: #E8F0FE;\n",
              "      border: none;\n",
              "      border-radius: 50%;\n",
              "      cursor: pointer;\n",
              "      display: none;\n",
              "      fill: #1967D2;\n",
              "      height: 32px;\n",
              "      padding: 0 0 0 0;\n",
              "      width: 32px;\n",
              "    }\n",
              "\n",
              "    .colab-df-convert:hover {\n",
              "      background-color: #E2EBFA;\n",
              "      box-shadow: 0px 1px 2px rgba(60, 64, 67, 0.3), 0px 1px 3px 1px rgba(60, 64, 67, 0.15);\n",
              "      fill: #174EA6;\n",
              "    }\n",
              "\n",
              "    .colab-df-buttons div {\n",
              "      margin-bottom: 4px;\n",
              "    }\n",
              "\n",
              "    [theme=dark] .colab-df-convert {\n",
              "      background-color: #3B4455;\n",
              "      fill: #D2E3FC;\n",
              "    }\n",
              "\n",
              "    [theme=dark] .colab-df-convert:hover {\n",
              "      background-color: #434B5C;\n",
              "      box-shadow: 0px 1px 3px 1px rgba(0, 0, 0, 0.15);\n",
              "      filter: drop-shadow(0px 1px 2px rgba(0, 0, 0, 0.3));\n",
              "      fill: #FFFFFF;\n",
              "    }\n",
              "  </style>\n",
              "\n",
              "    <script>\n",
              "      const buttonEl =\n",
              "        document.querySelector('#df-e2849184-39e7-4ce2-bd23-882d8b1cded5 button.colab-df-convert');\n",
              "      buttonEl.style.display =\n",
              "        google.colab.kernel.accessAllowed ? 'block' : 'none';\n",
              "\n",
              "      async function convertToInteractive(key) {\n",
              "        const element = document.querySelector('#df-e2849184-39e7-4ce2-bd23-882d8b1cded5');\n",
              "        const dataTable =\n",
              "          await google.colab.kernel.invokeFunction('convertToInteractive',\n",
              "                                                    [key], {});\n",
              "        if (!dataTable) return;\n",
              "\n",
              "        const docLinkHtml = 'Like what you see? Visit the ' +\n",
              "          '<a target=\"_blank\" href=https://colab.research.google.com/notebooks/data_table.ipynb>data table notebook</a>'\n",
              "          + ' to learn more about interactive tables.';\n",
              "        element.innerHTML = '';\n",
              "        dataTable['output_type'] = 'display_data';\n",
              "        await google.colab.output.renderOutput(dataTable, element);\n",
              "        const docLink = document.createElement('div');\n",
              "        docLink.innerHTML = docLinkHtml;\n",
              "        element.appendChild(docLink);\n",
              "      }\n",
              "    </script>\n",
              "  </div>\n",
              "\n",
              "\n",
              "    <div id=\"df-c193974b-9fca-4cb7-94d7-61cf80a4be27\">\n",
              "      <button class=\"colab-df-quickchart\" onclick=\"quickchart('df-c193974b-9fca-4cb7-94d7-61cf80a4be27')\"\n",
              "                title=\"Suggest charts\"\n",
              "                style=\"display:none;\">\n",
              "\n",
              "<svg xmlns=\"http://www.w3.org/2000/svg\" height=\"24px\"viewBox=\"0 0 24 24\"\n",
              "     width=\"24px\">\n",
              "    <g>\n",
              "        <path d=\"M19 3H5c-1.1 0-2 .9-2 2v14c0 1.1.9 2 2 2h14c1.1 0 2-.9 2-2V5c0-1.1-.9-2-2-2zM9 17H7v-7h2v7zm4 0h-2V7h2v10zm4 0h-2v-4h2v4z\"/>\n",
              "    </g>\n",
              "</svg>\n",
              "      </button>\n",
              "\n",
              "<style>\n",
              "  .colab-df-quickchart {\n",
              "      --bg-color: #E8F0FE;\n",
              "      --fill-color: #1967D2;\n",
              "      --hover-bg-color: #E2EBFA;\n",
              "      --hover-fill-color: #174EA6;\n",
              "      --disabled-fill-color: #AAA;\n",
              "      --disabled-bg-color: #DDD;\n",
              "  }\n",
              "\n",
              "  [theme=dark] .colab-df-quickchart {\n",
              "      --bg-color: #3B4455;\n",
              "      --fill-color: #D2E3FC;\n",
              "      --hover-bg-color: #434B5C;\n",
              "      --hover-fill-color: #FFFFFF;\n",
              "      --disabled-bg-color: #3B4455;\n",
              "      --disabled-fill-color: #666;\n",
              "  }\n",
              "\n",
              "  .colab-df-quickchart {\n",
              "    background-color: var(--bg-color);\n",
              "    border: none;\n",
              "    border-radius: 50%;\n",
              "    cursor: pointer;\n",
              "    display: none;\n",
              "    fill: var(--fill-color);\n",
              "    height: 32px;\n",
              "    padding: 0;\n",
              "    width: 32px;\n",
              "  }\n",
              "\n",
              "  .colab-df-quickchart:hover {\n",
              "    background-color: var(--hover-bg-color);\n",
              "    box-shadow: 0 1px 2px rgba(60, 64, 67, 0.3), 0 1px 3px 1px rgba(60, 64, 67, 0.15);\n",
              "    fill: var(--button-hover-fill-color);\n",
              "  }\n",
              "\n",
              "  .colab-df-quickchart-complete:disabled,\n",
              "  .colab-df-quickchart-complete:disabled:hover {\n",
              "    background-color: var(--disabled-bg-color);\n",
              "    fill: var(--disabled-fill-color);\n",
              "    box-shadow: none;\n",
              "  }\n",
              "\n",
              "  .colab-df-spinner {\n",
              "    border: 2px solid var(--fill-color);\n",
              "    border-color: transparent;\n",
              "    border-bottom-color: var(--fill-color);\n",
              "    animation:\n",
              "      spin 1s steps(1) infinite;\n",
              "  }\n",
              "\n",
              "  @keyframes spin {\n",
              "    0% {\n",
              "      border-color: transparent;\n",
              "      border-bottom-color: var(--fill-color);\n",
              "      border-left-color: var(--fill-color);\n",
              "    }\n",
              "    20% {\n",
              "      border-color: transparent;\n",
              "      border-left-color: var(--fill-color);\n",
              "      border-top-color: var(--fill-color);\n",
              "    }\n",
              "    30% {\n",
              "      border-color: transparent;\n",
              "      border-left-color: var(--fill-color);\n",
              "      border-top-color: var(--fill-color);\n",
              "      border-right-color: var(--fill-color);\n",
              "    }\n",
              "    40% {\n",
              "      border-color: transparent;\n",
              "      border-right-color: var(--fill-color);\n",
              "      border-top-color: var(--fill-color);\n",
              "    }\n",
              "    60% {\n",
              "      border-color: transparent;\n",
              "      border-right-color: var(--fill-color);\n",
              "    }\n",
              "    80% {\n",
              "      border-color: transparent;\n",
              "      border-right-color: var(--fill-color);\n",
              "      border-bottom-color: var(--fill-color);\n",
              "    }\n",
              "    90% {\n",
              "      border-color: transparent;\n",
              "      border-bottom-color: var(--fill-color);\n",
              "    }\n",
              "  }\n",
              "</style>\n",
              "\n",
              "      <script>\n",
              "        async function quickchart(key) {\n",
              "          const quickchartButtonEl =\n",
              "            document.querySelector('#' + key + ' button');\n",
              "          quickchartButtonEl.disabled = true;  // To prevent multiple clicks.\n",
              "          quickchartButtonEl.classList.add('colab-df-spinner');\n",
              "          try {\n",
              "            const charts = await google.colab.kernel.invokeFunction(\n",
              "                'suggestCharts', [key], {});\n",
              "          } catch (error) {\n",
              "            console.error('Error during call to suggestCharts:', error);\n",
              "          }\n",
              "          quickchartButtonEl.classList.remove('colab-df-spinner');\n",
              "          quickchartButtonEl.classList.add('colab-df-quickchart-complete');\n",
              "        }\n",
              "        (() => {\n",
              "          let quickchartButtonEl =\n",
              "            document.querySelector('#df-c193974b-9fca-4cb7-94d7-61cf80a4be27 button');\n",
              "          quickchartButtonEl.style.display =\n",
              "            google.colab.kernel.accessAllowed ? 'block' : 'none';\n",
              "        })();\n",
              "      </script>\n",
              "    </div>\n",
              "\n",
              "    </div>\n",
              "  </div>\n"
            ],
            "application/vnd.google.colaboratory.intrinsic+json": {
              "type": "dataframe",
              "summary": "{\n  \"name\": \"    df\",\n  \"rows\": 3,\n  \"fields\": [\n    {\n      \"column\": \"accountId\",\n      \"properties\": {\n        \"dtype\": \"number\",\n        \"std\": 1,\n        \"min\": 2642618000,\n        \"max\": 2642618002,\n        \"num_unique_values\": 3,\n        \"samples\": [\n          2642618000,\n          2642618001,\n          2642618002\n        ],\n        \"semantic_type\": \"\",\n        \"description\": \"\"\n      }\n    },\n    {\n      \"column\": \"accountNumberDisplay\",\n      \"properties\": {\n        \"dtype\": \"string\",\n        \"num_unique_values\": 3,\n        \"samples\": [\n          \"******4890\",\n          \"******7945\",\n          \"******5297\"\n        ],\n        \"semantic_type\": \"\",\n        \"description\": \"\"\n      }\n    },\n    {\n      \"column\": \"accountType\",\n      \"properties\": {\n        \"dtype\": \"category\",\n        \"num_unique_values\": 1,\n        \"samples\": [\n          \"MORTGAGE\"\n        ],\n        \"semantic_type\": \"\",\n        \"description\": \"\"\n      }\n    },\n    {\n      \"column\": \"balanceType\",\n      \"properties\": {\n        \"dtype\": \"category\",\n        \"num_unique_values\": 1,\n        \"samples\": [\n          \"LIABILITY\"\n        ],\n        \"semantic_type\": \"\",\n        \"description\": \"\"\n      }\n    },\n    {\n      \"column\": \"currency\",\n      \"properties\": {\n        \"dtype\": \"category\",\n        \"num_unique_values\": 1,\n        \"samples\": [\n          \"USD\"\n        ],\n        \"semantic_type\": \"\",\n        \"description\": \"\"\n      }\n    },\n    {\n      \"column\": \"description\",\n      \"properties\": {\n        \"dtype\": \"category\",\n        \"num_unique_values\": 1,\n        \"samples\": [\n          \"GENERIC COMPANY MORTGAGE\"\n        ],\n        \"semantic_type\": \"\",\n        \"description\": \"\"\n      }\n    },\n    {\n      \"column\": \"accountOpenedDate\",\n      \"properties\": {\n        \"dtype\": \"object\",\n        \"num_unique_values\": 3,\n        \"samples\": [\n          \"2023-03-17\"\n        ],\n        \"semantic_type\": \"\",\n        \"description\": \"\"\n      }\n    },\n    {\n      \"column\": \"nickname\",\n      \"properties\": {\n        \"dtype\": \"category\",\n        \"num_unique_values\": 1,\n        \"samples\": [\n          \"MORTGAGE\"\n        ],\n        \"semantic_type\": \"\",\n        \"description\": \"\"\n      }\n    },\n    {\n      \"column\": \"productName\",\n      \"properties\": {\n        \"dtype\": \"category\",\n        \"num_unique_values\": 1,\n        \"samples\": [\n          \"GENERIC COMPANY MORTGAGE\"\n        ],\n        \"semantic_type\": \"\",\n        \"description\": \"\"\n      }\n    },\n    {\n      \"column\": \"status\",\n      \"properties\": {\n        \"dtype\": \"category\",\n        \"num_unique_values\": 1,\n        \"samples\": [\n          \"OPEN\"\n        ],\n        \"semantic_type\": \"\",\n        \"description\": \"\"\n      }\n    }\n  ]\n}"
            }
          },
          "metadata": {}
        },
        {
          "output_type": "stream",
          "name": "stdout",
          "text": [
            "<class 'pandas.core.frame.DataFrame'>\n",
            "RangeIndex: 100 entries, 0 to 99\n",
            "Data columns (total 10 columns):\n",
            " #   Column                Non-Null Count  Dtype \n",
            "---  ------                --------------  ----- \n",
            " 0   accountId             100 non-null    int64 \n",
            " 1   accountNumberDisplay  100 non-null    object\n",
            " 2   accountType           100 non-null    object\n",
            " 3   balanceType           100 non-null    object\n",
            " 4   currency              100 non-null    object\n",
            " 5   description           100 non-null    object\n",
            " 6   accountOpenedDate     100 non-null    object\n",
            " 7   nickname              100 non-null    object\n",
            " 8   productName           100 non-null    object\n",
            " 9   status                100 non-null    object\n",
            "dtypes: int64(1), object(9)\n",
            "memory usage: 7.9+ KB\n",
            "\n",
            "===== MORTGAGE TRANSACTIONS =====\n"
          ]
        },
        {
          "output_type": "display_data",
          "data": {
            "text/plain": [
              "    accountId                         transactionId postedTimestamp  \\\n",
              "0  2642618000  d6bd56e4-2d44-4383-900d-7e402ae6a1e4      2024-05-01   \n",
              "1  2642618000  5c749a34-bb4e-4026-bd19-7363dd57b758      2024-04-01   \n",
              "2  2642618000  66ab8c17-58d7-47b5-99a5-5c55185ca723      2024-03-02   \n",
              "\n",
              "  transactionTimestamp description debitCreditMemo       category  status  \\\n",
              "0           2024-04-30     PAYMENT          CREDIT  Mortgage/Rent  POSTED   \n",
              "1           2024-03-31     PAYMENT          CREDIT  Mortgage/Rent  POSTED   \n",
              "2           2024-03-01     PAYMENT          CREDIT  Mortgage/Rent  POSTED   \n",
              "\n",
              "    amount      displayName transactionType  principalAmount  interestAmount  \\\n",
              "0  2684.12  Mortgage - 5932         PAYMENT          1993.83          690.29   \n",
              "1  2252.87  Mortgage - 7366         PAYMENT          1525.16          727.71   \n",
              "2  2401.49  Mortgage - 9821         PAYMENT          1515.84          885.65   \n",
              "\n",
              "   feesAmount  \n",
              "0         0.0  \n",
              "1         0.0  \n",
              "2         0.0  "
            ],
            "text/html": [
              "\n",
              "  <div id=\"df-654f6b70-f8f3-40d5-9a69-ce64da916dfe\" class=\"colab-df-container\">\n",
              "    <div>\n",
              "<style scoped>\n",
              "    .dataframe tbody tr th:only-of-type {\n",
              "        vertical-align: middle;\n",
              "    }\n",
              "\n",
              "    .dataframe tbody tr th {\n",
              "        vertical-align: top;\n",
              "    }\n",
              "\n",
              "    .dataframe thead th {\n",
              "        text-align: right;\n",
              "    }\n",
              "</style>\n",
              "<table border=\"1\" class=\"dataframe\">\n",
              "  <thead>\n",
              "    <tr style=\"text-align: right;\">\n",
              "      <th></th>\n",
              "      <th>accountId</th>\n",
              "      <th>transactionId</th>\n",
              "      <th>postedTimestamp</th>\n",
              "      <th>transactionTimestamp</th>\n",
              "      <th>description</th>\n",
              "      <th>debitCreditMemo</th>\n",
              "      <th>category</th>\n",
              "      <th>status</th>\n",
              "      <th>amount</th>\n",
              "      <th>displayName</th>\n",
              "      <th>transactionType</th>\n",
              "      <th>principalAmount</th>\n",
              "      <th>interestAmount</th>\n",
              "      <th>feesAmount</th>\n",
              "    </tr>\n",
              "  </thead>\n",
              "  <tbody>\n",
              "    <tr>\n",
              "      <th>0</th>\n",
              "      <td>2642618000</td>\n",
              "      <td>d6bd56e4-2d44-4383-900d-7e402ae6a1e4</td>\n",
              "      <td>2024-05-01</td>\n",
              "      <td>2024-04-30</td>\n",
              "      <td>PAYMENT</td>\n",
              "      <td>CREDIT</td>\n",
              "      <td>Mortgage/Rent</td>\n",
              "      <td>POSTED</td>\n",
              "      <td>2684.12</td>\n",
              "      <td>Mortgage - 5932</td>\n",
              "      <td>PAYMENT</td>\n",
              "      <td>1993.83</td>\n",
              "      <td>690.29</td>\n",
              "      <td>0.0</td>\n",
              "    </tr>\n",
              "    <tr>\n",
              "      <th>1</th>\n",
              "      <td>2642618000</td>\n",
              "      <td>5c749a34-bb4e-4026-bd19-7363dd57b758</td>\n",
              "      <td>2024-04-01</td>\n",
              "      <td>2024-03-31</td>\n",
              "      <td>PAYMENT</td>\n",
              "      <td>CREDIT</td>\n",
              "      <td>Mortgage/Rent</td>\n",
              "      <td>POSTED</td>\n",
              "      <td>2252.87</td>\n",
              "      <td>Mortgage - 7366</td>\n",
              "      <td>PAYMENT</td>\n",
              "      <td>1525.16</td>\n",
              "      <td>727.71</td>\n",
              "      <td>0.0</td>\n",
              "    </tr>\n",
              "    <tr>\n",
              "      <th>2</th>\n",
              "      <td>2642618000</td>\n",
              "      <td>66ab8c17-58d7-47b5-99a5-5c55185ca723</td>\n",
              "      <td>2024-03-02</td>\n",
              "      <td>2024-03-01</td>\n",
              "      <td>PAYMENT</td>\n",
              "      <td>CREDIT</td>\n",
              "      <td>Mortgage/Rent</td>\n",
              "      <td>POSTED</td>\n",
              "      <td>2401.49</td>\n",
              "      <td>Mortgage - 9821</td>\n",
              "      <td>PAYMENT</td>\n",
              "      <td>1515.84</td>\n",
              "      <td>885.65</td>\n",
              "      <td>0.0</td>\n",
              "    </tr>\n",
              "  </tbody>\n",
              "</table>\n",
              "</div>\n",
              "    <div class=\"colab-df-buttons\">\n",
              "\n",
              "  <div class=\"colab-df-container\">\n",
              "    <button class=\"colab-df-convert\" onclick=\"convertToInteractive('df-654f6b70-f8f3-40d5-9a69-ce64da916dfe')\"\n",
              "            title=\"Convert this dataframe to an interactive table.\"\n",
              "            style=\"display:none;\">\n",
              "\n",
              "  <svg xmlns=\"http://www.w3.org/2000/svg\" height=\"24px\" viewBox=\"0 -960 960 960\">\n",
              "    <path d=\"M120-120v-720h720v720H120Zm60-500h600v-160H180v160Zm220 220h160v-160H400v160Zm0 220h160v-160H400v160ZM180-400h160v-160H180v160Zm440 0h160v-160H620v160ZM180-180h160v-160H180v160Zm440 0h160v-160H620v160Z\"/>\n",
              "  </svg>\n",
              "    </button>\n",
              "\n",
              "  <style>\n",
              "    .colab-df-container {\n",
              "      display:flex;\n",
              "      gap: 12px;\n",
              "    }\n",
              "\n",
              "    .colab-df-convert {\n",
              "      background-color: #E8F0FE;\n",
              "      border: none;\n",
              "      border-radius: 50%;\n",
              "      cursor: pointer;\n",
              "      display: none;\n",
              "      fill: #1967D2;\n",
              "      height: 32px;\n",
              "      padding: 0 0 0 0;\n",
              "      width: 32px;\n",
              "    }\n",
              "\n",
              "    .colab-df-convert:hover {\n",
              "      background-color: #E2EBFA;\n",
              "      box-shadow: 0px 1px 2px rgba(60, 64, 67, 0.3), 0px 1px 3px 1px rgba(60, 64, 67, 0.15);\n",
              "      fill: #174EA6;\n",
              "    }\n",
              "\n",
              "    .colab-df-buttons div {\n",
              "      margin-bottom: 4px;\n",
              "    }\n",
              "\n",
              "    [theme=dark] .colab-df-convert {\n",
              "      background-color: #3B4455;\n",
              "      fill: #D2E3FC;\n",
              "    }\n",
              "\n",
              "    [theme=dark] .colab-df-convert:hover {\n",
              "      background-color: #434B5C;\n",
              "      box-shadow: 0px 1px 3px 1px rgba(0, 0, 0, 0.15);\n",
              "      filter: drop-shadow(0px 1px 2px rgba(0, 0, 0, 0.3));\n",
              "      fill: #FFFFFF;\n",
              "    }\n",
              "  </style>\n",
              "\n",
              "    <script>\n",
              "      const buttonEl =\n",
              "        document.querySelector('#df-654f6b70-f8f3-40d5-9a69-ce64da916dfe button.colab-df-convert');\n",
              "      buttonEl.style.display =\n",
              "        google.colab.kernel.accessAllowed ? 'block' : 'none';\n",
              "\n",
              "      async function convertToInteractive(key) {\n",
              "        const element = document.querySelector('#df-654f6b70-f8f3-40d5-9a69-ce64da916dfe');\n",
              "        const dataTable =\n",
              "          await google.colab.kernel.invokeFunction('convertToInteractive',\n",
              "                                                    [key], {});\n",
              "        if (!dataTable) return;\n",
              "\n",
              "        const docLinkHtml = 'Like what you see? Visit the ' +\n",
              "          '<a target=\"_blank\" href=https://colab.research.google.com/notebooks/data_table.ipynb>data table notebook</a>'\n",
              "          + ' to learn more about interactive tables.';\n",
              "        element.innerHTML = '';\n",
              "        dataTable['output_type'] = 'display_data';\n",
              "        await google.colab.output.renderOutput(dataTable, element);\n",
              "        const docLink = document.createElement('div');\n",
              "        docLink.innerHTML = docLinkHtml;\n",
              "        element.appendChild(docLink);\n",
              "      }\n",
              "    </script>\n",
              "  </div>\n",
              "\n",
              "\n",
              "    <div id=\"df-f2f1979c-8420-4181-a893-909572b014d1\">\n",
              "      <button class=\"colab-df-quickchart\" onclick=\"quickchart('df-f2f1979c-8420-4181-a893-909572b014d1')\"\n",
              "                title=\"Suggest charts\"\n",
              "                style=\"display:none;\">\n",
              "\n",
              "<svg xmlns=\"http://www.w3.org/2000/svg\" height=\"24px\"viewBox=\"0 0 24 24\"\n",
              "     width=\"24px\">\n",
              "    <g>\n",
              "        <path d=\"M19 3H5c-1.1 0-2 .9-2 2v14c0 1.1.9 2 2 2h14c1.1 0 2-.9 2-2V5c0-1.1-.9-2-2-2zM9 17H7v-7h2v7zm4 0h-2V7h2v10zm4 0h-2v-4h2v4z\"/>\n",
              "    </g>\n",
              "</svg>\n",
              "      </button>\n",
              "\n",
              "<style>\n",
              "  .colab-df-quickchart {\n",
              "      --bg-color: #E8F0FE;\n",
              "      --fill-color: #1967D2;\n",
              "      --hover-bg-color: #E2EBFA;\n",
              "      --hover-fill-color: #174EA6;\n",
              "      --disabled-fill-color: #AAA;\n",
              "      --disabled-bg-color: #DDD;\n",
              "  }\n",
              "\n",
              "  [theme=dark] .colab-df-quickchart {\n",
              "      --bg-color: #3B4455;\n",
              "      --fill-color: #D2E3FC;\n",
              "      --hover-bg-color: #434B5C;\n",
              "      --hover-fill-color: #FFFFFF;\n",
              "      --disabled-bg-color: #3B4455;\n",
              "      --disabled-fill-color: #666;\n",
              "  }\n",
              "\n",
              "  .colab-df-quickchart {\n",
              "    background-color: var(--bg-color);\n",
              "    border: none;\n",
              "    border-radius: 50%;\n",
              "    cursor: pointer;\n",
              "    display: none;\n",
              "    fill: var(--fill-color);\n",
              "    height: 32px;\n",
              "    padding: 0;\n",
              "    width: 32px;\n",
              "  }\n",
              "\n",
              "  .colab-df-quickchart:hover {\n",
              "    background-color: var(--hover-bg-color);\n",
              "    box-shadow: 0 1px 2px rgba(60, 64, 67, 0.3), 0 1px 3px 1px rgba(60, 64, 67, 0.15);\n",
              "    fill: var(--button-hover-fill-color);\n",
              "  }\n",
              "\n",
              "  .colab-df-quickchart-complete:disabled,\n",
              "  .colab-df-quickchart-complete:disabled:hover {\n",
              "    background-color: var(--disabled-bg-color);\n",
              "    fill: var(--disabled-fill-color);\n",
              "    box-shadow: none;\n",
              "  }\n",
              "\n",
              "  .colab-df-spinner {\n",
              "    border: 2px solid var(--fill-color);\n",
              "    border-color: transparent;\n",
              "    border-bottom-color: var(--fill-color);\n",
              "    animation:\n",
              "      spin 1s steps(1) infinite;\n",
              "  }\n",
              "\n",
              "  @keyframes spin {\n",
              "    0% {\n",
              "      border-color: transparent;\n",
              "      border-bottom-color: var(--fill-color);\n",
              "      border-left-color: var(--fill-color);\n",
              "    }\n",
              "    20% {\n",
              "      border-color: transparent;\n",
              "      border-left-color: var(--fill-color);\n",
              "      border-top-color: var(--fill-color);\n",
              "    }\n",
              "    30% {\n",
              "      border-color: transparent;\n",
              "      border-left-color: var(--fill-color);\n",
              "      border-top-color: var(--fill-color);\n",
              "      border-right-color: var(--fill-color);\n",
              "    }\n",
              "    40% {\n",
              "      border-color: transparent;\n",
              "      border-right-color: var(--fill-color);\n",
              "      border-top-color: var(--fill-color);\n",
              "    }\n",
              "    60% {\n",
              "      border-color: transparent;\n",
              "      border-right-color: var(--fill-color);\n",
              "    }\n",
              "    80% {\n",
              "      border-color: transparent;\n",
              "      border-right-color: var(--fill-color);\n",
              "      border-bottom-color: var(--fill-color);\n",
              "    }\n",
              "    90% {\n",
              "      border-color: transparent;\n",
              "      border-bottom-color: var(--fill-color);\n",
              "    }\n",
              "  }\n",
              "</style>\n",
              "\n",
              "      <script>\n",
              "        async function quickchart(key) {\n",
              "          const quickchartButtonEl =\n",
              "            document.querySelector('#' + key + ' button');\n",
              "          quickchartButtonEl.disabled = true;  // To prevent multiple clicks.\n",
              "          quickchartButtonEl.classList.add('colab-df-spinner');\n",
              "          try {\n",
              "            const charts = await google.colab.kernel.invokeFunction(\n",
              "                'suggestCharts', [key], {});\n",
              "          } catch (error) {\n",
              "            console.error('Error during call to suggestCharts:', error);\n",
              "          }\n",
              "          quickchartButtonEl.classList.remove('colab-df-spinner');\n",
              "          quickchartButtonEl.classList.add('colab-df-quickchart-complete');\n",
              "        }\n",
              "        (() => {\n",
              "          let quickchartButtonEl =\n",
              "            document.querySelector('#df-f2f1979c-8420-4181-a893-909572b014d1 button');\n",
              "          quickchartButtonEl.style.display =\n",
              "            google.colab.kernel.accessAllowed ? 'block' : 'none';\n",
              "        })();\n",
              "      </script>\n",
              "    </div>\n",
              "\n",
              "    </div>\n",
              "  </div>\n"
            ],
            "application/vnd.google.colaboratory.intrinsic+json": {
              "type": "dataframe",
              "summary": "{\n  \"name\": \"    df\",\n  \"rows\": 3,\n  \"fields\": [\n    {\n      \"column\": \"accountId\",\n      \"properties\": {\n        \"dtype\": \"number\",\n        \"std\": 0,\n        \"min\": 2642618000,\n        \"max\": 2642618000,\n        \"num_unique_values\": 1,\n        \"samples\": [\n          2642618000\n        ],\n        \"semantic_type\": \"\",\n        \"description\": \"\"\n      }\n    },\n    {\n      \"column\": \"transactionId\",\n      \"properties\": {\n        \"dtype\": \"string\",\n        \"num_unique_values\": 3,\n        \"samples\": [\n          \"d6bd56e4-2d44-4383-900d-7e402ae6a1e4\"\n        ],\n        \"semantic_type\": \"\",\n        \"description\": \"\"\n      }\n    },\n    {\n      \"column\": \"postedTimestamp\",\n      \"properties\": {\n        \"dtype\": \"object\",\n        \"num_unique_values\": 3,\n        \"samples\": [\n          \"2024-05-01\"\n        ],\n        \"semantic_type\": \"\",\n        \"description\": \"\"\n      }\n    },\n    {\n      \"column\": \"transactionTimestamp\",\n      \"properties\": {\n        \"dtype\": \"object\",\n        \"num_unique_values\": 3,\n        \"samples\": [\n          \"2024-04-30\"\n        ],\n        \"semantic_type\": \"\",\n        \"description\": \"\"\n      }\n    },\n    {\n      \"column\": \"description\",\n      \"properties\": {\n        \"dtype\": \"category\",\n        \"num_unique_values\": 1,\n        \"samples\": [\n          \"PAYMENT\"\n        ],\n        \"semantic_type\": \"\",\n        \"description\": \"\"\n      }\n    },\n    {\n      \"column\": \"debitCreditMemo\",\n      \"properties\": {\n        \"dtype\": \"category\",\n        \"num_unique_values\": 1,\n        \"samples\": [\n          \"CREDIT\"\n        ],\n        \"semantic_type\": \"\",\n        \"description\": \"\"\n      }\n    },\n    {\n      \"column\": \"category\",\n      \"properties\": {\n        \"dtype\": \"category\",\n        \"num_unique_values\": 1,\n        \"samples\": [\n          \"Mortgage/Rent\"\n        ],\n        \"semantic_type\": \"\",\n        \"description\": \"\"\n      }\n    },\n    {\n      \"column\": \"status\",\n      \"properties\": {\n        \"dtype\": \"category\",\n        \"num_unique_values\": 1,\n        \"samples\": [\n          \"POSTED\"\n        ],\n        \"semantic_type\": \"\",\n        \"description\": \"\"\n      }\n    },\n    {\n      \"column\": \"amount\",\n      \"properties\": {\n        \"dtype\": \"number\",\n        \"std\": 219.0677915623381,\n        \"min\": 2252.87,\n        \"max\": 2684.12,\n        \"num_unique_values\": 3,\n        \"samples\": [\n          2684.12\n        ],\n        \"semantic_type\": \"\",\n        \"description\": \"\"\n      }\n    },\n    {\n      \"column\": \"displayName\",\n      \"properties\": {\n        \"dtype\": \"string\",\n        \"num_unique_values\": 3,\n        \"samples\": [\n          \"Mortgage - 5932\"\n        ],\n        \"semantic_type\": \"\",\n        \"description\": \"\"\n      }\n    },\n    {\n      \"column\": \"transactionType\",\n      \"properties\": {\n        \"dtype\": \"category\",\n        \"num_unique_values\": 1,\n        \"samples\": [\n          \"PAYMENT\"\n        ],\n        \"semantic_type\": \"\",\n        \"description\": \"\"\n      }\n    },\n    {\n      \"column\": \"principalAmount\",\n      \"properties\": {\n        \"dtype\": \"number\",\n        \"std\": 273.31693184530906,\n        \"min\": 1515.84,\n        \"max\": 1993.83,\n        \"num_unique_values\": 3,\n        \"samples\": [\n          1993.83\n        ],\n        \"semantic_type\": \"\",\n        \"description\": \"\"\n      }\n    },\n    {\n      \"column\": \"interestAmount\",\n      \"properties\": {\n        \"dtype\": \"number\",\n        \"std\": 103.69091056275536,\n        \"min\": 690.29,\n        \"max\": 885.65,\n        \"num_unique_values\": 3,\n        \"samples\": [\n          690.29\n        ],\n        \"semantic_type\": \"\",\n        \"description\": \"\"\n      }\n    },\n    {\n      \"column\": \"feesAmount\",\n      \"properties\": {\n        \"dtype\": \"number\",\n        \"std\": 0.0,\n        \"min\": 0.0,\n        \"max\": 0.0,\n        \"num_unique_values\": 1,\n        \"samples\": [\n          0.0\n        ],\n        \"semantic_type\": \"\",\n        \"description\": \"\"\n      }\n    }\n  ]\n}"
            }
          },
          "metadata": {}
        },
        {
          "output_type": "stream",
          "name": "stdout",
          "text": [
            "<class 'pandas.core.frame.DataFrame'>\n",
            "RangeIndex: 1200 entries, 0 to 1199\n",
            "Data columns (total 14 columns):\n",
            " #   Column                Non-Null Count  Dtype  \n",
            "---  ------                --------------  -----  \n",
            " 0   accountId             1200 non-null   int64  \n",
            " 1   transactionId         1200 non-null   object \n",
            " 2   postedTimestamp       1200 non-null   object \n",
            " 3   transactionTimestamp  1200 non-null   object \n",
            " 4   description           1200 non-null   object \n",
            " 5   debitCreditMemo       1200 non-null   object \n",
            " 6   category              1200 non-null   object \n",
            " 7   status                1200 non-null   object \n",
            " 8   amount                1200 non-null   float64\n",
            " 9   displayName           1200 non-null   object \n",
            " 10  transactionType       1200 non-null   object \n",
            " 11  principalAmount       1200 non-null   float64\n",
            " 12  interestAmount        1200 non-null   float64\n",
            " 13  feesAmount            1200 non-null   float64\n",
            "dtypes: float64(4), int64(1), object(9)\n",
            "memory usage: 131.4+ KB\n"
          ]
        }
      ]
    },
    {
      "cell_type": "code",
      "source": [
        "def quick_profile(df, name):\n",
        "    profile = pd.DataFrame({\n",
        "        'column' : df.columns,\n",
        "        'dtype' : df.dtypes.astype(str),\n",
        "        'null_%' : df.isnull().mean().round(3)*100,\n",
        "        'n_unique' : df.nunique()\n",
        "    })\n",
        "    profile.to_csv(os.path.join(DATA_DIR, f'{name}_profile.csv'), index=False)\n",
        "\n",
        "quick_profile(mort_acct, 'mortgage_accounts')\n",
        "quick_profile(mort_txn, 'mortgage_transactions')\n",
        "print('Profiles saved to mortgage_accounts_profile.csv & mortgage_transactions_profile.csv')\n"
      ],
      "metadata": {
        "colab": {
          "base_uri": "https://localhost:8080/"
        },
        "id": "4nlf-ymROBI3",
        "outputId": "2f248615-d8ff-4e16-87cf-d699c97e071c"
      },
      "execution_count": null,
      "outputs": [
        {
          "output_type": "stream",
          "name": "stdout",
          "text": [
            "Profiles saved to mortgage_accounts_profile.csv & mortgage_transactions_profile.csv\n"
          ]
        }
      ]
    },
    {
      "cell_type": "markdown",
      "source": [
        "None of them are incomplete or have null values."
      ],
      "metadata": {
        "id": "xtL-070_LwvR"
      }
    },
    {
      "cell_type": "markdown",
      "source": [
        "全部都没有残缺空值"
      ],
      "metadata": {
        "id": "d7y5ytgNOAwc"
      }
    },
    {
      "cell_type": "code",
      "source": [
        "mort_txn['transactionTimestamp'] = pd.to_datetime(mort_txn['transactionTimestamp'])\n",
        "mort_txn['postedTimestamp'] = pd.to_datetime(mort_txn['postedTimestamp'])\n",
        "for col in ['amount','principalAmount','interestAmount','feesAmount']:\n",
        "    mort_txn[col] = pd.to_numeric(mort_txn[col], errors='coerce')\n",
        "\n",
        "# main key uniqueness\n",
        "dups = mort_txn.duplicated(['accountId','transactionId']).sum()\n",
        "print('duplicate (accountId, transactionId):', dups)\n",
        "\n",
        "# possibale future date\n",
        "import pandas as pd\n",
        "future = (mort_txn['transactionTimestamp'] > pd.Timestamp.today()).sum()\n",
        "print('future‐dated rows:', future)\n"
      ],
      "metadata": {
        "colab": {
          "base_uri": "https://localhost:8080/"
        },
        "id": "gpczdWm3P3AX",
        "outputId": "8f4a600d-3581-4a6e-d823-a237c479edd6"
      },
      "execution_count": null,
      "outputs": [
        {
          "output_type": "stream",
          "name": "stdout",
          "text": [
            "duplicate (accountId, transactionId): 0\n",
            "future‐dated rows: 0\n"
          ]
        }
      ]
    },
    {
      "cell_type": "markdown",
      "source": [
        "## 2. Data cleaning"
      ],
      "metadata": {
        "id": "b2fD_8viTtkP"
      }
    },
    {
      "cell_type": "code",
      "source": [
        "import pandas as pd, numpy as np, os\n",
        "from datetime import date\n",
        "\n",
        "DATA_DIR = '/content/drive/MyDrive/ucla_capstone'\n",
        "\n",
        "txn = pd.read_csv(os.path.join(DATA_DIR, 'mortgage_transactions.csv'))\n",
        "acct = pd.read_csv(os.path.join(DATA_DIR, 'mortgage_accounts.csv'))\n",
        "\n",
        "# date\n",
        "txn['transactionTimestamp'] = pd.to_datetime(txn['transactionTimestamp'])\n",
        "txn['postedTimestamp'] = pd.to_datetime(txn['postedTimestamp'])\n",
        "\n",
        "# amount\n",
        "num_cols = ['amount','principalAmount','interestAmount','feesAmount']\n",
        "txn[num_cols] = txn[num_cols].apply(pd.to_numeric, errors='coerce')\n",
        "\n",
        "today = pd.Timestamp(date.today())\n",
        "txn = txn[(txn['transactionTimestamp'] <= today) &\n",
        "          (txn['postedTimestamp']      <= today)]\n",
        "\n",
        "# if postedTimestamp < transactTimestamp then identify as abnormal and remove\n",
        "txn = txn[txn['postedTimestamp'] >= txn['transactionTimestamp']]\n",
        "\n",
        "# main key uniqueness\n",
        "dups = txn.duplicated(['accountId','transactionId']).sum()\n",
        "assert dups == 0, f'{dups} duplicated (accountId, transactionId) rows!'\n",
        "\n",
        "# Financial derivatives column\n",
        "txn['abs_amount'] = txn['amount'].abs()\n",
        "txn['is_negative'] = txn['amount'] < 0            # Mortgage PAYMENT is positive\n",
        "txn['p_i_f_sum'] = txn[['principalAmount','interestAmount','feesAmount']].sum(axis=1)\n",
        "\n",
        "# if mismatch > 1 dollor the identify as abnormal and remove\n",
        "txn['amount_mismatch'] = (txn['amount'] - txn['p_i_f_sum']).abs() > 1\n",
        "\n",
        "txn['is_weekend'] = txn['transactionTimestamp'].dt.weekday >= 5\n",
        "txn['year_month'] = txn['transactionTimestamp'].dt.to_period('M')\n",
        "\n",
        "# Repetitive amount count (within the account)\n",
        "dup_stats = (txn.groupby(['accountId','amount'])\n",
        "                .size().reset_index(name='dup_amt_cnt'))\n",
        "txn = txn.merge(dup_stats, on=['accountId','amount'], how='left')\n",
        "\n",
        "# output\n",
        "clean_path = os.path.join(DATA_DIR, 'mortgage_transactions_clean.parquet')\n",
        "txn.to_parquet(clean_path, index=False)\n",
        "print(f'Mortgage clean file saved to {clean_path}')\n"
      ],
      "metadata": {
        "colab": {
          "base_uri": "https://localhost:8080/"
        },
        "id": "eGypqgxRTvp1",
        "outputId": "a120f17d-2939-4fac-b622-71f7aa81e7b1"
      },
      "execution_count": null,
      "outputs": [
        {
          "output_type": "stream",
          "name": "stdout",
          "text": [
            "Mortgage clean file saved to /content/drive/MyDrive/ucla_capstone/mortgage_transactions_clean.parquet\n"
          ]
        }
      ]
    },
    {
      "cell_type": "markdown",
      "source": [
        "## 3. Account - Transaction Association"
      ],
      "metadata": {
        "id": "HPHjAe3bVfME"
      }
    },
    {
      "cell_type": "code",
      "source": [
        "# Keep only the necessary account columns\n",
        "acct_keep = ['accountId','accountOpenedDate','status']\n",
        "acct = acct[acct_keep]\n",
        "\n",
        "master = txn.merge(acct, on='accountId', how='left', validate='many_to_one')\n",
        "master_path = os.path.join(DATA_DIR, 'mortgage_master.parquet')\n",
        "master.to_parquet(master_path, index=False)\n",
        "print('Master table saved to', master_path)\n"
      ],
      "metadata": {
        "colab": {
          "base_uri": "https://localhost:8080/"
        },
        "id": "9hij5mfqVdrk",
        "outputId": "a74acdaa-9d56-4488-a5c5-04a2941bb093"
      },
      "execution_count": null,
      "outputs": [
        {
          "output_type": "stream",
          "name": "stdout",
          "text": [
            "Master table saved to /content/drive/MyDrive/ucla_capstone/mortgage_master.parquet\n"
          ]
        }
      ]
    },
    {
      "cell_type": "markdown",
      "source": [
        "## 4. Mortgage Feature Engineering"
      ],
      "metadata": {
        "id": "36-i9KX8dRvg"
      }
    },
    {
      "cell_type": "code",
      "source": [
        "import pandas as pd, numpy as np, os\n",
        "from scipy.stats import zscore\n",
        "\n",
        "DATA_DIR = '/content/drive/MyDrive/ucla_capstone'\n",
        "df = pd.read_parquet(os.path.join(DATA_DIR, 'mortgage_master.parquet'))\n",
        "\n",
        "# By time in ascending order within the same account\n",
        "df = df.sort_values(['accountId', 'transactionTimestamp'])\n",
        "\n"
      ],
      "metadata": {
        "id": "t3HQLDTidTsI"
      },
      "execution_count": null,
      "outputs": []
    },
    {
      "cell_type": "code",
      "source": [
        "####################################\n",
        "# Transaction-level derived features\n",
        "####################################\n",
        "\n",
        "# Z-score\n",
        "df['amount_z'] = df.groupby('accountId')['amount'].transform(lambda x: zscore(x, ddof=0))\n",
        "\n",
        "# Time interval\n",
        "df['days_since_prev'] = df.groupby('accountId')['transactionTimestamp'].diff().dt.days.fillna(0)\n",
        "df['days_until_next'] = df.groupby('accountId')['transactionTimestamp'].diff(-1).abs().dt.days.fillna(0)\n",
        "\n",
        "# 3 transaction - Window\n",
        "df['rolling_mean_3'] = df.groupby('accountId')['amount'].transform(\n",
        "    lambda x: x.rolling(3, min_periods=1).mean())\n",
        "df['rolling_std_3'] = df.groupby('accountId')['amount'].transform(\n",
        "    lambda x: x.rolling(3, min_periods=1).std().fillna(0))\n",
        "\n",
        "# Composition ratio\n",
        "for part in ['principalAmount', 'interestAmount', 'feesAmount']:\n",
        "    prefix = part.split('Amount')[0]\n",
        "    df[f'{prefix}_ratio'] = (\n",
        "        df[part] / df['amount'].replace(0, np.nan)\n",
        "    ).fillna(0)\n",
        "\n",
        "\n",
        "# Consistency & Late Payments\n",
        "df['amount_match_flag'] = (df['amount_mismatch'] == False).astype(int)\n",
        "df['overdue_flag'] = (df['days_since_prev'] > 40).astype(int)\n",
        "\n",
        "#################################################\n",
        "# Account-level aggregated features (per-account)\n",
        "#################################################\n",
        "\n",
        "agg = (df\n",
        "   .assign(is_negative = df['amount'] < 0,\n",
        "        overdue = df['overdue_flag'])\n",
        "   .groupby('accountId')\n",
        "   .agg(\n",
        "       txn_cnt = ('transactionId','nunique'),\n",
        "       mean_amt = ('amount','mean'),\n",
        "       std_amt = ('amount','std'),\n",
        "       max_abs_amt = ('abs_amount','max'),\n",
        "       neg_ratio = ('is_negative','mean'),\n",
        "       avg_days_between = ('days_since_prev', lambda x: x.replace(0,np.nan).mean()),\n",
        "       overdue_ratio = ('overdue','mean'),\n",
        "       sum_principal = ('principalAmount','sum'),\n",
        "       sum_interest = ('interestAmount','sum'),\n",
        "       sum_fees = ('feesAmount','sum'),\n",
        "       first_txn = ('transactionTimestamp','min'),\n",
        "       last_txn = ('transactionTimestamp','max')\n",
        "   )\n",
        "   .reset_index()\n",
        ")\n",
        "\n",
        "# Proportion of derivative interest / fees\n",
        "agg['interest_pct_total'] = agg['sum_interest'] / (agg['sum_principal'] + 1e-9)\n",
        "agg['fees_pct_total'] = agg['sum_fees'] / (agg['sum_principal'] + 1e-9)\n",
        "agg.drop(columns=['sum_principal','sum_interest','sum_fees'], inplace=True)\n",
        "\n",
        "# Active Months & Account Lifespan\n",
        "agg['active_months'] = df.groupby('accountId')['year_month'].nunique().values\n",
        "agg['account_age_days'] = (agg['last_txn'] - agg['first_txn']).dt.days\n",
        "agg.drop(columns=['first_txn','last_txn'], inplace=True)\n",
        "\n",
        "\n",
        "feature_df = df.merge(agg, on='accountId', how='left', validate='many_to_one')\n",
        "print('Feature shape:', feature_df.shape)\n",
        "\n",
        "\n",
        "feature_path = os.path.join(DATA_DIR, 'mortgage_features.parquet')\n",
        "feature_df.to_parquet(feature_path, index=False)\n",
        "print(f'Mortgage features saved to {feature_path}')\n"
      ],
      "metadata": {
        "colab": {
          "base_uri": "https://localhost:8080/"
        },
        "id": "nwJOUzjMfz25",
        "outputId": "03293993-41f8-4663-8926-7ebceb637d3e"
      },
      "execution_count": null,
      "outputs": [
        {
          "output_type": "stream",
          "name": "stdout",
          "text": [
            "Feature shape: (1200, 44)\n",
            "Mortgage features saved to /content/drive/MyDrive/ucla_capstone/mortgage_features.parquet\n"
          ]
        }
      ]
    },
    {
      "cell_type": "markdown",
      "source": [
        "## 5. rules & rule_score"
      ],
      "metadata": {
        "id": "Z6Bl0eOdkZ9T"
      }
    },
    {
      "cell_type": "markdown",
      "source": [
        "| rule number                  | logic                                                | Background / Trigger Threshold                                   |\n",
        "| --------------------- | ------------------------------------------------- | ------------------------------------------- |\n",
        "| **R1\\_amt\\_spike**    | `abs_amount > 1.8 × rolling_mean_3`               | The current repayment amount has increased by more than 80% compared to the average of the last 3 periods.                     |\n",
        "| **R2\\_amt\\_mismatch** | `amount_match_flag == 0`                          | Principal + interest + fees imbalance (more than $1 difference) |\n",
        "| **R3\\_overdue**       | `overdue_flag == 1`                               | The interval between two payments > 40 days (assuming monthly supply ≤ 40 days)                 |\n",
        "| **R4\\_freq\\_burst**   | `(days_since_prev < 15) & (days_until_next < 15)` | Two consecutive repayments within 15 days, extremely frequent                            |\n",
        "| **R5\\_neg\\_amount**   | `is_negative == True`                             | Negative amount appears in the repayment (refund / reversal)                            |\n",
        "| **R6\\_weekend\\_pay**  | `is_weekend == True`                              | Repayment on the weekend - quite rare.                                     |\n",
        "| **R7\\_high\\_fees**    | `fees_ratio > 0.10`                               | The handling fee exceeds 10% of the repayment amount.                             |\n",
        "| **R8\\_low\\_interest** | `interest_ratio < 0.25`                           | The interest proportion is too low. There may be misalignment of fields or abnormal deductions.                          |\n"
      ],
      "metadata": {
        "id": "sEFa_C7tqVpu"
      }
    },
    {
      "cell_type": "code",
      "source": [
        "import pandas as pd, os, numpy as np\n",
        "\n",
        "DATA_DIR = '/content/drive/MyDrive/ucla_capstone'\n",
        "feat = pd.read_parquet(os.path.join(DATA_DIR, 'mortgage_features.parquet'))\n",
        "\n",
        "rules = {\n",
        "    'R1_amt_spike': feat['abs_amount'] > 1.8 * feat['rolling_mean_3'],\n",
        "    'R2_amt_mismatch': feat['amount_match_flag'] == 0,\n",
        "    'R3_overdue': feat['overdue_flag'] == 1,\n",
        "    'R4_freq_burst': (feat['days_since_prev'] < 15) & (feat['days_until_next'] < 15),\n",
        "    'R5_neg_amount': feat['is_negative'],\n",
        "    'R6_weekend_pay': feat['is_weekend'],\n",
        "    'R7_high_fees': feat['fees_ratio'] > 0.10,\n",
        "    'R8_low_interest': feat['interest_ratio'] < 0.25\n",
        "}\n",
        "\n",
        "# New rule column\n",
        "for col, cond in rules.items():\n",
        "    feat[col] = cond.astype(int)\n",
        "\n",
        "rule_cols = list(rules.keys())\n",
        "feat['rule_score'] = feat[rule_cols].mean(axis=1)   # 0 - 1. The more hits, the higher the score.\n",
        "\n",
        "# save the output\n",
        "feat_rules_path = os.path.join(DATA_DIR, 'mortgage_features_rules.parquet')\n",
        "feat.to_parquet(feat_rules_path, index=False)\n",
        "print(f'Mortgage feature+rule file saved to {feat_rules_path} ({feat.shape})')\n"
      ],
      "metadata": {
        "colab": {
          "base_uri": "https://localhost:8080/"
        },
        "id": "TbhjEJBTkked",
        "outputId": "0c924574-9cc9-4b57-a35e-bcf67a877bd1"
      },
      "execution_count": null,
      "outputs": [
        {
          "output_type": "stream",
          "name": "stdout",
          "text": [
            "Mortgage feature+rule file saved to /content/drive/MyDrive/ucla_capstone/mortgage_features_rules.parquet ((1200, 53))\n"
          ]
        }
      ]
    },
    {
      "cell_type": "markdown",
      "source": [
        "## 6. Train + Score the Mortgage Model"
      ],
      "metadata": {
        "id": "wfnoKF_xsTPw"
      }
    },
    {
      "cell_type": "markdown",
      "source": [
        "**iforest**"
      ],
      "metadata": {
        "id": "WlO45S2t8NlO"
      }
    },
    {
      "cell_type": "code",
      "source": [
        "import pandas as pd, numpy as np, os, joblib\n",
        "from sklearn.preprocessing import StandardScaler\n",
        "from sklearn.ensemble import IsolationForest\n",
        "from sklearn.pipeline import Pipeline\n",
        "\n",
        "DATA_DIR = '/content/drive/MyDrive/ucla_capstone'\n",
        "feat = pd.read_parquet(os.path.join(DATA_DIR, 'mortgage_features_rules.parquet'))\n",
        "\n",
        "# Select numerical features\n",
        "num_cols = [\n",
        "    'amount_z','days_since_prev','rolling_mean_3','rolling_std_3',\n",
        "    'overdue_flag','fees_ratio','interest_ratio','dup_amt_cnt',\n",
        "    'txn_cnt','neg_ratio','avg_days_between','max_abs_amt'\n",
        "]\n",
        "X = feat[num_cols].fillna(0).values\n",
        "\n",
        "# Build pipeline: Scaler + IF\n",
        "pipe = Pipeline([\n",
        "    ('sc', StandardScaler()),\n",
        "    ('if', IsolationForest(\n",
        "        n_estimators=200,\n",
        "        contamination=0.03,    # The mortgage default rate is slightly higher at 3%.\n",
        "        random_state=42\n",
        "    ))\n",
        "])\n",
        "pipe.fit(X)\n",
        "\n",
        "# decision_function: 0-1 normalization: The larger the value, the more abnormal it is.\n",
        "raw = pipe['if'].decision_function(pipe['sc'].transform(X))\n",
        "model_score = (-raw - (-raw).min()) / ((-raw).max() - (-raw).min())\n",
        "feat['model_score'] = model_score\n",
        "\n",
        "# Integration model score + Rule score\n",
        "ALPHA, BETA = 0.7, 0.3\n",
        "feat['final_score'] = ALPHA*feat['model_score'] + BETA*feat['rule_score']\n",
        "\n",
        "def to_label(s):\n",
        "    if s >= np.percentile(feat['final_score'], 99):  return 'FRAUDULENT'\n",
        "    if s >= np.percentile(feat['final_score'], 97):  return 'HIGH_RISK'\n",
        "    if s >= np.percentile(feat['final_score'], 90):  return 'UNUSUAL'\n",
        "    return 'NORMAL'\n",
        "feat['label'] = feat['final_score'].apply(to_label)\n",
        "\n",
        "# Save the model and the score\n",
        "joblib.dump(pipe, os.path.join(DATA_DIR, 'mortgage_iforest.pkl'))\n",
        "feat.to_parquet(os.path.join(DATA_DIR, 'mortgage_scored.parquet'), index=False)\n",
        "print('Saved to mortgage_scored.parquet  |  Label dist:')\n",
        "print(feat['label'].value_counts())\n"
      ],
      "metadata": {
        "colab": {
          "base_uri": "https://localhost:8080/"
        },
        "id": "h6AHfqsasVGc",
        "outputId": "37b93aca-9d27-4e6f-ccf8-8e1a2bf68499"
      },
      "execution_count": null,
      "outputs": [
        {
          "output_type": "stream",
          "name": "stdout",
          "text": [
            "Saved to mortgage_scored.parquet  |  Label dist:\n",
            "label\n",
            "NORMAL        1080\n",
            "UNUSUAL         84\n",
            "HIGH_RISK       24\n",
            "FRAUDULENT      12\n",
            "Name: count, dtype: int64\n"
          ]
        }
      ]
    },
    {
      "cell_type": "markdown",
      "source": [
        "**pyod**"
      ],
      "metadata": {
        "id": "H6aU3p-66EGI"
      }
    },
    {
      "cell_type": "code",
      "source": [
        "!pip install -qU pyod"
      ],
      "metadata": {
        "id": "aITyH_dy6x9P",
        "colab": {
          "base_uri": "https://localhost:8080/"
        },
        "outputId": "46d34388-2fa2-49cd-ba37-53b0163ff5e7"
      },
      "execution_count": null,
      "outputs": [
        {
          "output_type": "stream",
          "name": "stdout",
          "text": [
            "\u001b[2K     \u001b[90m━━━━━━━━━━━━━━━━━━━━━━━━━━━━━━━━━━━━━━━━\u001b[0m \u001b[32m46.3/46.3 kB\u001b[0m \u001b[31m2.6 MB/s\u001b[0m eta \u001b[36m0:00:00\u001b[0m\n",
            "\u001b[2K   \u001b[90m━━━━━━━━━━━━━━━━━━━━━━━━━━━━━━━━━━━━━━━━\u001b[0m \u001b[32m200.6/200.6 kB\u001b[0m \u001b[31m3.8 MB/s\u001b[0m eta \u001b[36m0:00:00\u001b[0m\n",
            "\u001b[?25h"
          ]
        }
      ]
    },
    {
      "cell_type": "code",
      "source": [
        "# =========================================\n",
        "# Mortgage PyOD Ensemble Scoring Pipeline\n",
        "# UCLA Capstone – Anomaly Detection\n",
        "# =========================================\n",
        "\n",
        "\n",
        "import os, joblib, numpy as np, pandas as pd\n",
        "from sklearn.preprocessing import StandardScaler\n",
        "from sklearn.pipeline import Pipeline\n",
        "from pyod.models.iforest      import IForest\n",
        "from pyod.models.lof          import LOF\n",
        "from pyod.models.auto_encoder import AutoEncoder\n",
        "from pyod.models.copod        import COPOD\n",
        "from pyod.models.cblof        import CBLOF\n",
        "\n",
        "# parameters\n",
        "DATA_DIR = '/content/drive/MyDrive/ucla_capstone'\n",
        "IN_FILE = 'mortgage_features_rules.parquet'\n",
        "OUT_FILE = 'mortgage_scored_pyod.parquet'\n",
        "MODEL_DIR = os.path.join(DATA_DIR, 'models_mortgage')\n",
        "os.makedirs(MODEL_DIR, exist_ok=True)\n",
        "\n",
        "ALPHA = 0.7        # model score weight\n",
        "BETA = 0.3        # rule score weight\n",
        "CONTAM = 0.03      # Expected Mortgage Default Rate (3%)\n",
        "\n",
        "# read data\n",
        "feat = pd.read_parquet(os.path.join(DATA_DIR, IN_FILE))\n",
        "\n",
        "num_cols = [\n",
        "    'amount_z','days_since_prev','rolling_mean_3','rolling_std_3',\n",
        "    'overdue_flag','fees_ratio','interest_ratio','dup_amt_cnt',\n",
        "    'txn_cnt','neg_ratio','avg_days_between','max_abs_amt'\n",
        "]\n",
        "X_raw = feat[num_cols].fillna(0).values\n",
        "scaler = StandardScaler().fit(X_raw)\n",
        "X = scaler.transform(X_raw)\n",
        "\n",
        "# define model\n",
        "\n",
        "ae_model = AutoEncoder(\n",
        "    contamination=CONTAM,\n",
        "    hidden_neuron_list=[32, 16, 32],\n",
        "    epoch_num=40,\n",
        "    batch_size=32,\n",
        "    random_state=42,\n",
        ")\n",
        "\n",
        "MODELS = {\n",
        "    'iforest': IForest(contamination=CONTAM, n_estimators=250, random_state=42),\n",
        "    'lof': LOF(contamination=CONTAM, n_neighbors=20),\n",
        "    'ae': ae_model,\n",
        "    'copod': COPOD(contamination=CONTAM),\n",
        "    'cblof': CBLOF(contamination=CONTAM, n_clusters=10, random_state=42)\n",
        "}\n",
        "\n",
        "scores = {}\n",
        "for name, clf in MODELS.items():\n",
        "    pipe = Pipeline([('model', clf)])\n",
        "    pipe.fit(X)\n",
        "    raw = pipe['model'].decision_scores_            # larger, more abnormal\n",
        "    scores[name] = (raw - raw.min()) / (raw.max() - raw.min())   # nomalization 0-1\n",
        "    joblib.dump(pipe, os.path.join(MODEL_DIR, f'{name}.pkl'))    # save model\n",
        "    print(f'{name:<8s}  mean={scores[name].mean():.3f}')\n",
        "\n",
        "# Model averaging and fusion\n",
        "feat['model_score'] = pd.DataFrame(scores).mean(axis=1)\n",
        "\n",
        "# Integration rules section\n",
        "feat['final_score'] = ALPHA*feat['model_score'] + BETA*feat['rule_score']\n",
        "\n",
        "# Quartile mapping with four labels\n",
        "p90, p97, p99 = np.percentile(feat['final_score'], [90, 97, 99])\n",
        "def to_label(s):\n",
        "    if s >= p99: return 'FRAUDULENT'   # ~1%\n",
        "    if s >= p97: return 'HIGH_RISK'    # ~2-3%\n",
        "    if s >= p90: return 'UNUSUAL'      # ~10%\n",
        "    return 'NORMAL'\n",
        "feat['label'] = feat['final_score'].apply(to_label)\n",
        "\n",
        "# save output\n",
        "feat.to_parquet(os.path.join(DATA_DIR, OUT_FILE), index=False)\n",
        "print('\\nMortgage scoring complete ➜', OUT_FILE)\n",
        "print('\\nLabel distribution:\\n', feat['label'].value_counts(normalize=True)\\\n",
        "      .apply(lambda x: f'{x*100:.2f}%'))\n"
      ],
      "metadata": {
        "colab": {
          "base_uri": "https://localhost:8080/"
        },
        "id": "PhCJ1s2E6E2B",
        "outputId": "dcd55dbd-17b7-4f2c-dd38-753172eed039"
      },
      "execution_count": null,
      "outputs": [
        {
          "output_type": "stream",
          "name": "stdout",
          "text": [
            "iforest   mean=0.255\n",
            "lof       mean=0.139\n"
          ]
        },
        {
          "output_type": "stream",
          "name": "stderr",
          "text": [
            "Training: 100%|██████████| 40/40 [00:14<00:00,  2.81it/s]\n"
          ]
        },
        {
          "output_type": "stream",
          "name": "stdout",
          "text": [
            "ae        mean=0.332\n",
            "copod     mean=0.232\n",
            "cblof     mean=0.287\n",
            "\n",
            "Mortgage scoring complete ➜ mortgage_scored_pyod.parquet\n",
            "\n",
            "Label distribution:\n",
            " label\n",
            "NORMAL        90.00%\n",
            "UNUSUAL        7.00%\n",
            "HIGH_RISK      2.00%\n",
            "FRAUDULENT     1.00%\n",
            "Name: proportion, dtype: object\n"
          ]
        }
      ]
    },
    {
      "cell_type": "markdown",
      "source": [
        "## 7. visualization"
      ],
      "metadata": {
        "id": "nQ_Y8Yhz7_KQ"
      }
    },
    {
      "cell_type": "code",
      "source": [
        "import pandas as pd, numpy as np, matplotlib.pyplot as plt, os\n",
        "\n",
        "DATA_DIR = '/content/drive/MyDrive/ucla_capstone'\n",
        "IF_FILE = 'mortgage_scored.parquet' # Isolation-Forest\n",
        "PYOD_FILE = 'mortgage_scored_pyod.parquet' # PyOD\n",
        "\n",
        "df_if = pd.read_parquet(os.path.join(DATA_DIR, IF_FILE))\n",
        "df_pyod = pd.read_parquet(os.path.join(DATA_DIR, PYOD_FILE))\n",
        "\n",
        "def plot_dist(df, title):\n",
        "    # Calculate the quantile point\n",
        "    p90, p97, p99 = np.percentile(df['final_score'], [90, 97, 99])\n",
        "    print(f'{title}  →  P90={p90:.4f},  P97={p97:.4f},  P99={p99:.4f}')\n",
        "\n",
        "    # plot\n",
        "    plt.figure(figsize=(7, 4))\n",
        "    plt.hist(df['final_score'], bins=50)\n",
        "    plt.axvline(p90, linestyle='--', label='P90')\n",
        "    plt.axvline(p97, linestyle='--', label='P97')\n",
        "    plt.axvline(p99, linestyle='--', label='P99')\n",
        "    plt.title(f'Final-Score Distribution — {title}')\n",
        "    plt.xlabel('final_score'); plt.ylabel('count')\n",
        "    plt.legend(); plt.tight_layout(); plt.show()\n",
        "\n",
        "# visualization\n",
        "plot_dist(df_if, 'Isolation Forest baseline')\n",
        "plot_dist(df_pyod, 'PyOD Ensemble')\n"
      ],
      "metadata": {
        "colab": {
          "base_uri": "https://localhost:8080/",
          "height": 833
        },
        "id": "X6WoG9hZ8BmR",
        "outputId": "a6b5585b-d038-4cbc-8e8a-2177c8489bb0"
      },
      "execution_count": null,
      "outputs": [
        {
          "output_type": "stream",
          "name": "stdout",
          "text": [
            "Isolation Forest baseline  →  P90=0.3647,  P97=0.5129,  P99=0.5926\n"
          ]
        },
        {
          "output_type": "display_data",
          "data": {
            "text/plain": [
              "<Figure size 700x400 with 1 Axes>"
            ],
            "image/png": "[encoded data removed]"
          },
          "metadata": {}
        },
        {
          "output_type": "stream",
          "name": "stdout",
          "text": [
            "PyOD Ensemble  →  P90=0.3096,  P97=0.3886,  P99=0.4626\n"
          ]
        },
        {
          "output_type": "display_data",
          "data": {
            "text/plain": [
              "<Figure size 700x400 with 1 Axes>"
            ],
            "image/png": "[encoded data removed]"
          },
          "metadata": {}
        }
      ]
    },
    {
      "cell_type": "markdown",
      "source": [
        "## 8. Explainability Layer"
      ],
      "metadata": {
        "id": "oGIaVKJi9QKj"
      }
    },
    {
      "cell_type": "code",
      "source": [
        "!pip install shap pyarrow -q"
      ],
      "metadata": {
        "id": "0IVjxROo9SNX"
      },
      "execution_count": null,
      "outputs": []
    },
    {
      "cell_type": "code",
      "source": [
        "import os, joblib, pandas as pd, numpy as np\n",
        "import shap, matplotlib.pyplot as plt\n",
        "\n",
        "DATA_DIR = '/content/drive/MyDrive/ucla_capstone'\n",
        "MODEL_PATH = os.path.join(DATA_DIR, 'mortgage_iforest.pkl')\n",
        "SCORED_FILE = os.path.join(DATA_DIR, 'mortgage_scored.parquet')\n",
        "\n",
        "\n",
        "df = pd.read_parquet(SCORED_FILE) # pyarrow / fastparquet\n",
        "pipe = joblib.load(MODEL_PATH) # Pipeline(scaler → IsolationForest)\n",
        "\n",
        "num_cols = [\n",
        "    'amount_z','days_since_prev','rolling_mean_3','rolling_std_3',\n",
        "    'overdue_flag','fees_ratio','interest_ratio','dup_amt_cnt',\n",
        "    'txn_cnt','neg_ratio','avg_days_between','max_abs_amt'\n",
        "]\n",
        "\n",
        "# use top-500 calculate SHAP\n",
        "top_idx = df['final_score'].nlargest(500).index\n",
        "X_top = df.loc[top_idx, num_cols].fillna(0)\n",
        "X_scaled = pipe['sc'].transform(X_top)\n",
        "\n",
        "explainer = shap.TreeExplainer(pipe['if'])\n",
        "shap_values = explainer.shap_values(X_scaled)\n",
        "\n",
        "shap.summary_plot(shap_values, X_top, feature_names=num_cols, show=False)\n",
        "plt.tight_layout()\n",
        "plt.savefig(os.path.join(DATA_DIR, 'shap_summary_mortgage_iforest.png'))\n",
        "plt.show()\n",
        "print('SHAP summary saved → shap_summary_mortgage_iforest.png')\n",
        "\n",
        "# rule hiting column\n",
        "rule_cols = [c for c in df.columns if c.startswith('R')]\n",
        "df['rules_hit'] = df[rule_cols].apply(\n",
        "    lambda r: [c for c in rule_cols if r[c]==1], axis=1\n",
        ")\n",
        "\n",
        "# only output HIGH_RISK & FRAUDULENT\n",
        "exp_cols = ['accountId','transactionId','amount','transactionType',\n",
        "            'final_score','model_score','rule_score','rules_hit']\n",
        "out_csv = os.path.join(DATA_DIR,'mortgage_explain_highrisk.csv')\n",
        "(df[df['label'].isin(['HIGH_RISK','FRAUDULENT'])][exp_cols]\n",
        "   .to_csv(out_csv, index=False))\n",
        "print(f'Explanation CSV saved → {out_csv}')\n"
      ],
      "metadata": {
        "colab": {
          "base_uri": "https://localhost:8080/",
          "height": 763
        },
        "id": "-sBU2Hdc9XiE",
        "outputId": "5857507a-e6c2-4517-d708-9c3197ff478c"
      },
      "execution_count": null,
      "outputs": [
        {
          "output_type": "stream",
          "name": "stderr",
          "text": [
            "/usr/local/lib/python3.11/dist-packages/sklearn/utils/validation.py:2732: UserWarning: X has feature names, but StandardScaler was fitted without feature names\n",
            "  warnings.warn(\n",
            "/tmp/ipython-input-2101040110.py:26: FutureWarning: The NumPy global RNG was seeded by calling `np.random.seed`. In a future version this function will no longer use the global RNG. Pass `rng` explicitly to opt-in to the new behaviour and silence this warning.\n",
            "  shap.summary_plot(shap_values, X_top, feature_names=num_cols, show=False)\n"
          ]
        },
        {
          "output_type": "display_data",
          "data": {
            "text/plain": [
              "<Figure size 800x630 with 2 Axes>"
            ],
            "image/png": "[encoded data removed]"
          },
          "metadata": {}
        },
        {
          "output_type": "stream",
          "name": "stdout",
          "text": [
            "SHAP summary saved → shap_summary_mortgage_iforest.png\n",
            "Explanation CSV saved → /content/drive/MyDrive/ucla_capstone/mortgage_explain_highrisk.csv\n"
          ]
        }
      ]
    },
    {
      "cell_type": "code",
      "source": [
        "'''\n",
        "# ==== 1) Imports & paths ====\n",
        "import os, joblib, numpy as np, pandas as pd\n",
        "from sklearn.pipeline import Pipeline\n",
        "from sklearn.preprocessing import StandardScaler\n",
        "from sklearn.ensemble import IsolationForest\n",
        "\n",
        "# 改成你的项目路径\n",
        "DATA_DIR   = '/content/drive/MyDrive/ucla_capstone'\n",
        "MODELS_DIR = os.path.join(DATA_DIR, 'models')\n",
        "os.makedirs(MODELS_DIR, exist_ok=True)\n",
        "\n",
        "# 优先用带规则的特征文件；没有就用基础特征\n",
        "CANDIDATES = ['mortgage_features_rules.parquet', 'mortgage_features.parquet']\n",
        "for name in CANDIDATES:\n",
        "    path = os.path.join(DATA_DIR, name)\n",
        "    if os.path.exists(path):\n",
        "        df = pd.read_parquet(path)\n",
        "        print(f'Loaded: {name}  ->  shape={df.shape}')\n",
        "        break\n",
        "else:\n",
        "    raise FileNotFoundError('找不到 mortgage_features_rules.parquet 或 mortgage_features.parquet')\n",
        "\n",
        "# ==== 2) 训练时的“默认特征列清单”（和 Streamlit 中一致）====\n",
        "num_cols_default = [\n",
        "    'amount_z','days_since_prev','days_until_next',\n",
        "    'rolling_mean_3','rolling_std_3','overdue_flag',\n",
        "    'fees_ratio','interest_ratio','dup_amt_cnt',\n",
        "    'txn_cnt','neg_ratio','avg_days_between','max_abs_amt'\n",
        "]\n",
        "# 和现有列做交集，避免缺列报错\n",
        "num_cols = [c for c in num_cols_default if c in df.columns]\n",
        "if len(num_cols) == 0:\n",
        "    raise RuntimeError('特征列一个都没匹配上，检查你的 features parquet 是否包含这些字段。')\n",
        "print('Using num_cols:', num_cols)\n",
        "\n",
        "# 用 DataFrame 拟合（这样 scaler 会记录 feature_names_in_）\n",
        "X = df[num_cols].fillna(0)\n",
        "\n",
        "# ==== 3) 训练 Isolation Forest Pipeline ====\n",
        "CONTAM = 0.03    # mortgage 经验值\n",
        "pipe = Pipeline([\n",
        "    ('scaler', StandardScaler()),\n",
        "    ('iforest', IsolationForest(n_estimators=200, contamination=CONTAM, random_state=42))\n",
        "])\n",
        "pipe.fit(X)\n",
        "\n",
        "# ==== 4) 计算训练分布上的阈值（供前端使用）====\n",
        "raw  = pipe['iforest'].decision_function(pipe['scaler'].transform(X))\n",
        "mscore = (-raw - (-raw).min()) / ((-raw).max() - (-raw).min() + 1e-12)\n",
        "\n",
        "# 如果特征表里本身就有 rule_score，就按 0.6/0.4 融合；否则只用模型分\n",
        "if 'rule_score' in df.columns:\n",
        "    ALPHA, BETA = 0.6, 0.4\n",
        "    final = ALPHA*mscore + BETA*df['rule_score'].values\n",
        "else:\n",
        "    ALPHA, BETA = 1.0, 0.0\n",
        "    final = mscore\n",
        "\n",
        "p90, p97, p99 = np.percentile(final, [90, 97, 99])\n",
        "print(f'Calibrated cuts: P90={p90:.4f}  P97={p97:.4f}  P99={p99:.4f}')\n",
        "\n",
        "# ==== 5) 保存到 models/ ====\n",
        "pipe_path = os.path.join(MODELS_DIR, 'mortgage_iforest.pkl')\n",
        "meta_path = os.path.join(MODELS_DIR, 'mortgage_feature_meta.pkl')\n",
        "\n",
        "joblib.dump(pipe, pipe_path)\n",
        "meta = {'num_cols': num_cols, 'alpha_beta': (float(ALPHA), float(BETA)),\n",
        "        'pct_cut': (float(p90), float(p97), float(p99))}\n",
        "joblib.dump(meta, meta_path)\n",
        "\n",
        "print('✅ Saved:', pipe_path)\n",
        "print('✅ Saved:', meta_path)\n",
        "\n",
        "# 小自检：确认是 Pipeline + 有 scaler + 特征数\n",
        "pp = joblib.load(pipe_path)\n",
        "print('Pipeline?', isinstance(pp, Pipeline), 'Steps:', list(pp.named_steps.keys()))\n",
        "print('Scaler n_features_in_ =', getattr(pp.named_steps['scaler'], 'n_features_in_', None))\n",
        "'''"
      ],
      "metadata": {
        "colab": {
          "base_uri": "https://localhost:8080/"
        },
        "id": "6wCd5dP8Gg9-",
        "outputId": "48ddd217-5ee2-4692-c9ca-102bbcd9bc43"
      },
      "execution_count": null,
      "outputs": [
        {
          "output_type": "stream",
          "name": "stdout",
          "text": [
            "Loaded: mortgage_features_rules.parquet  ->  shape=(1200, 53)\n",
            "Using num_cols: ['amount_z', 'days_since_prev', 'days_until_next', 'rolling_mean_3', 'rolling_std_3', 'overdue_flag', 'fees_ratio', 'interest_ratio', 'dup_amt_cnt', 'txn_cnt', 'neg_ratio', 'avg_days_between', 'max_abs_amt']\n",
            "Calibrated cuts: P90=0.3811  P97=0.4582  P99=0.5086\n",
            "✅ Saved: /content/drive/MyDrive/ucla_capstone/models/mortgage_iforest.pkl\n",
            "✅ Saved: /content/drive/MyDrive/ucla_capstone/models/mortgage_feature_meta.pkl\n",
            "Pipeline? True Steps: ['scaler', 'iforest']\n",
            "Scaler n_features_in_ = 13\n"
          ]
        }
      ]
    }
  ]
}